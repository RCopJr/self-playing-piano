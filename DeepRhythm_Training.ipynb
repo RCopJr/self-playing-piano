{
  "nbformat": 4,
  "nbformat_minor": 0,
  "metadata": {
    "colab": {
      "name": "DeepRhythm_Training.ipynb",
      "provenance": [],
      "collapsed_sections": [],
      "toc_visible": true
    },
    "kernelspec": {
      "name": "python3",
      "display_name": "Python 3"
    },
    "accelerator": "GPU"
  },
  "cells": [
    {
      "cell_type": "markdown",
      "metadata": {
        "id": "SlNWVbESF4yA"
      },
      "source": [
        "# **DeepRhythm**\n",
        "Here I will try to implement a model that will predict the next note duration given a sequence of note-duration pairs."
      ]
    },
    {
      "cell_type": "code",
      "metadata": {
        "id": "DRyK7ITVFnf7",
        "colab": {
          "base_uri": "https://localhost:8080/"
        },
        "outputId": "9b8139db-74f0-49db-ed87-d88cdfcd9937"
      },
      "source": [
        "#Mounts google drive\n",
        "from google.colab import drive\n",
        "drive.mount('/content/gdrive')"
      ],
      "execution_count": null,
      "outputs": [
        {
          "output_type": "stream",
          "text": [
            "Mounted at /content/gdrive\n"
          ],
          "name": "stdout"
        }
      ]
    },
    {
      "cell_type": "code",
      "metadata": {
        "id": "HbgABs3YG71W"
      },
      "source": [
        "import numpy as np\n",
        "with open('/content/gdrive/My Drive/Google Colab/MusicGen/Data/Mozart/net_in_CLBM_L10E_160', 'rb') as filepath:\n",
        "  network_input = np.load(filepath)\n",
        "with open('/content/gdrive/My Drive/Google Colab/MusicGen/Data/Mozart/net_out_durations_CLBM_L10E_160', 'rb') as filepath:\n",
        "  network_output = np.load(filepath)"
      ],
      "execution_count": null,
      "outputs": []
    },
    {
      "cell_type": "code",
      "metadata": {
        "id": "9buA4AuvEPkS",
        "colab": {
          "base_uri": "https://localhost:8080/"
        },
        "outputId": "102b693d-b807-456d-a660-0ca62cf94794"
      },
      "source": [
        "print(network_output.shape)\n",
        "print(network_input.shape)"
      ],
      "execution_count": null,
      "outputs": [
        {
          "output_type": "stream",
          "text": [
            "(165514, 69)\n",
            "(165514, 160, 2)\n"
          ],
          "name": "stdout"
        }
      ]
    },
    {
      "cell_type": "code",
      "metadata": {
        "id": "Vctt95RQHQTW"
      },
      "source": [
        "from keras.models import Sequential, load_model\n",
        "from keras.layers import Dense, Dropout, LSTM, Activation, Flatten, Conv1D\n",
        "from keras import utils\n",
        "from keras.callbacks import ModelCheckpoint\n",
        "from keras.layers import BatchNormalization as BatchNorm"
      ],
      "execution_count": null,
      "outputs": []
    },
    {
      "cell_type": "code",
      "metadata": {
        "id": "MdDo9n9IHUSD"
      },
      "source": [
        "num_classes = len(network_output[0])\n",
        "\n",
        "def create_model(network_input, num_classes):\n",
        "  model = Sequential()\n",
        "  model.add(LSTM(512, input_shape=(network_input.shape[1], network_input.shape[2]), return_sequences=True))\n",
        "  model.add(Dropout(0.4))\n",
        "  model.add(LSTM(512, return_sequences=True))\n",
        "  model.add(Dropout(0.4))\n",
        "  model.add(Flatten())\n",
        "  model.add(Dense(num_classes))\n",
        "  model.add(Activation('softmax'))\n",
        "  model.compile(loss='categorical_crossentropy', optimizer='adam', metrics=['categorical_accuracy'])\n",
        "  return model\n"
      ],
      "execution_count": null,
      "outputs": []
    },
    {
      "cell_type": "code",
      "metadata": {
        "id": "EB6agTo_HXU6"
      },
      "source": [
        "filepath = \"/content/gdrive/My Drive/Google Colab/MusicGen/DeepRhythm_Checkpoints/BM/Ver_1/deepRhythm-{epoch:02d}-{loss:.4f}.hdf5\"\n",
        "\n",
        "BATCH_SIZE = 64\n",
        "STEPS_PER_EPOCH = len(network_output) / BATCH_SIZE\n",
        "SAVE_PERIOD = 5\n",
        "EPOCHS = 70\n",
        "SAVE_EACH_PERIOD = True\n",
        "SAVE_FREQ = int(SAVE_PERIOD * STEPS_PER_EPOCH)\n",
        "\n",
        "checkpoint = ModelCheckpoint(\n",
        "    filepath,\n",
        "    monitor='loss',\n",
        "    verbose=0,\n",
        "    save_best_only=False, \n",
        "    save_weights_only=False,\n",
        "    mode='min',\n",
        "    save_freq=SAVE_FREQ #'epoch'\n",
        ")\n",
        "callbacks_list = [checkpoint]"
      ],
      "execution_count": null,
      "outputs": []
    },
    {
      "cell_type": "code",
      "metadata": {
        "id": "zOc7HBsnIhX-"
      },
      "source": [
        "from matplotlib import pyplot\n",
        "\n",
        "model = create_model(network_input, num_classes) \n",
        "model_history = model.fit(network_input, network_output, epochs=EPOCHS, batch_size=BATCH_SIZE, callbacks=callbacks_list)\n",
        "  \n",
        "pyplot.plot(model_history.history['loss'], label='train')\n",
        "pyplot.legend()\n",
        "pyplot.show()"
      ],
      "execution_count": null,
      "outputs": []
    },
    {
      "cell_type": "code",
      "metadata": {
        "id": "DnkNaYYGm-_i"
      },
      "source": [
        ""
      ],
      "execution_count": null,
      "outputs": []
    }
  ]
}