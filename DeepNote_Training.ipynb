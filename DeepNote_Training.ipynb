{
 "cells": [
  {
   "cell_type": "markdown",
   "metadata": {
    "id": "4BaGvzBfE2XM"
   },
   "source": [
    "# **DeepNote**\n",
    "\n",
    "Here I will try to implement a model that will try to predict the next note in a sequence of note-duration combos."
   ]
  },
  {
   "cell_type": "code",
   "execution_count": null,
   "metadata": {
    "id": "2HXlp1uJTZIQ"
   },
   "outputs": [],
   "source": [
    "!pip list"
   ]
  },
  {
   "cell_type": "code",
   "execution_count": null,
   "metadata": {
    "colab": {
     "base_uri": "https://localhost:8080/"
    },
    "id": "_yhehg2kEJcV",
    "outputId": "f5d0de55-c54e-457f-cad1-c91f93c197c0"
   },
   "outputs": [
    {
     "name": "stdout",
     "output_type": "stream",
     "text": [
      "Mounted at /content/gdrive\n"
     ]
    }
   ],
   "source": [
    "#Mounts google drive\n",
    "from google.colab import drive\n",
    "drive.mount('/content/gdrive')"
   ]
  },
  {
   "cell_type": "markdown",
   "metadata": {
    "id": "QDZ9qeyNduqX"
   },
   "source": [
    "Load in the network input and output"
   ]
  },
  {
   "cell_type": "code",
   "execution_count": null,
   "metadata": {
    "id": "qr5eK2jFIsiz"
   },
   "outputs": [],
   "source": [
    "import numpy as np\n",
    "with open('/content/gdrive/My Drive/Google Colab/MusicGen/Data/Mozart/net_in_CLBM_L10E_160', 'rb') as filepath:\n",
    "  network_input = np.load(filepath)\n",
    "with open('/content/gdrive/My Drive/Google Colab/MusicGen/Data/Mozart/net_out_sounds_CLBM_L10E_160', 'rb') as filepath:\n",
    "  network_output = np.load(filepath)"
   ]
  },
  {
   "cell_type": "code",
   "execution_count": null,
   "metadata": {
    "colab": {
     "base_uri": "https://localhost:8080/"
    },
    "id": "Eq4f9Z92JiYK",
    "outputId": "41a70bab-ded1-4632-de37-29b5f358cd30"
   },
   "outputs": [
    {
     "name": "stdout",
     "output_type": "stream",
     "text": [
      "(165514, 160, 2)\n",
      "(165514, 330)\n"
     ]
    }
   ],
   "source": [
    "print(network_input.shape)\n",
    "print(network_output.shape)"
   ]
  },
  {
   "cell_type": "markdown",
   "metadata": {
    "id": "X9Qxv59rd7QL"
   },
   "source": [
    "Install and import the needed libraries and modules"
   ]
  },
  {
   "cell_type": "code",
   "execution_count": null,
   "metadata": {
    "colab": {
     "base_uri": "https://localhost:8080/"
    },
    "id": "ZFOGOPqCZLoW",
    "outputId": "51edafe7-ff09-4521-eb6e-29bb01a86873"
   },
   "outputs": [
    {
     "name": "stdout",
     "output_type": "stream",
     "text": [
      "Model: \"sequential_2\"\n",
      "_________________________________________________________________\n",
      "Layer (type)                 Output Shape              Param #   \n",
      "=================================================================\n",
      "lstm_4 (LSTM)                (None, 160, 512)          1054720   \n",
      "_________________________________________________________________\n",
      "dropout_4 (Dropout)          (None, 160, 512)          0         \n",
      "_________________________________________________________________\n",
      "lstm_5 (LSTM)                (None, 160, 512)          2099200   \n",
      "_________________________________________________________________\n",
      "dropout_5 (Dropout)          (None, 160, 512)          0         \n",
      "_________________________________________________________________\n",
      "flatten_2 (Flatten)          (None, 81920)             0         \n",
      "_________________________________________________________________\n",
      "dense_2 (Dense)              (None, 330)               27033930  \n",
      "_________________________________________________________________\n",
      "activation_2 (Activation)    (None, 330)               0         \n",
      "=================================================================\n",
      "Total params: 30,187,850\n",
      "Trainable params: 30,187,850\n",
      "Non-trainable params: 0\n",
      "_________________________________________________________________\n"
     ]
    }
   ],
   "source": [
    "from keras.models import Sequential, load_model\n",
    "from keras.layers import Dense, Dropout, LSTM, Activation, Flatten, Bidirectional\n",
    "from keras.layers import BatchNormalization as BatchNorm\n",
    "from keras import utils\n",
    "from keras.callbacks import ModelCheckpoint\n",
    "\n",
    "model_test = load_model('/content/gdrive/MyDrive/Google Colab/MusicGen/DeepNote_Checkpoints/BM/Ver_1/Round_2/deepNote-25-0.1222.hdf5')\n",
    "model_test.summary()"
   ]
  },
  {
   "cell_type": "markdown",
   "metadata": {
    "id": "bI5LhCNXeNMC"
   },
   "source": [
    "Build the model"
   ]
  },
  {
   "cell_type": "code",
   "execution_count": null,
   "metadata": {
    "id": "fBMwuagRaV6P"
   },
   "outputs": [],
   "source": [
    "num_classes = len(network_output[0])\n",
    "#4 0.3 dropout #5 0.2 dropout\n",
    "model = Sequential()\n",
    "model.add(Bidirectional(LSTM(256, input_shape=(network_input.shape[1], network_input.shape[2]),\n",
    "        return_sequences=True)))\n",
    "model.add(Dropout(0.1))\n",
    "model.add(Bidirectional(LSTM(256, return_sequences=True)))\n",
    "model.add(Dropout(0.1))\n",
    "model.add(LSTM(256))\n",
    "model.add(BatchNorm())\n",
    "model.add(Dropout(0.1))\n",
    "model.add(Dense(512))\n",
    "model.add(Activation('relu'))\n",
    "model.add(BatchNorm())\n",
    "model.add(Dropout(0.1))\n",
    "model.add(Dense(512))\n",
    "model.add(Activation('relu'))\n",
    "model.add(BatchNorm())\n",
    "model.add(Dropout(0.1))\n",
    "model.add(Dense(num_classes))\n",
    "model.add(Activation('softmax'))\n",
    "model.compile(loss='categorical_crossentropy', optimizer='adam', metrics=['categorical_accuracy'])"
   ]
  },
  {
   "cell_type": "code",
   "execution_count": null,
   "metadata": {
    "id": "TZ2FuR4NRTRf"
   },
   "outputs": [],
   "source": [
    "model = load_model('/content/gdrive/MyDrive/Google Colab/MusicGen/DeepNote_Checkpoints/BM/Ver_7/Round_2/deepNote-05-1.6582.hdf5')\n",
    "model.summary()"
   ]
  },
  {
   "cell_type": "code",
   "execution_count": null,
   "metadata": {
    "id": "zCtzrb8AgQRe"
   },
   "outputs": [],
   "source": [
    "filepath = \"/content/gdrive/My Drive/Google Colab/MusicGen/DeepNote_Checkpoints/BM/Ver_7/Round_2/deepNote-{epoch:02d}-{loss:.4f}.hdf5\"\n",
    "\n",
    "BATCH_SIZE = 64\n",
    "STEPS_PER_EPOCH = len(network_output) / BATCH_SIZE\n",
    "SAVE_PERIOD = 5\n",
    "EPOCHS = 150\n",
    "SAVE_FREQ = int(SAVE_PERIOD * STEPS_PER_EPOCH)\n",
    "\n",
    "checkpoint = ModelCheckpoint(\n",
    "    filepath,\n",
    "    monitor='loss',\n",
    "    verbose=0,\n",
    "    save_best_only=False, \n",
    "    save_weights_only=False,\n",
    "    mode='min',\n",
    "    save_freq=SAVE_FREQ #'epoch'\n",
    ")\n",
    "callbacks_list = [checkpoint]"
   ]
  },
  {
   "cell_type": "markdown",
   "metadata": {
    "id": "Mg5Y7orxC2ks"
   },
   "source": [
    "Train the model and plot loss"
   ]
  },
  {
   "cell_type": "code",
   "execution_count": null,
   "metadata": {
    "id": "CqEpZuMkpQ67"
   },
   "outputs": [],
   "source": [
    "from matplotlib import pyplot\n",
    "#ent/gdrive/My Drive/Google Colab/MusicGen/DeepNote_Checkpoints/BM/Ver_2/deepNote-25-2.9534.hdf5\")\n",
    "model_history = model.fit(network_input, network_output, epochs=EPOCHS, batch_size=BATCH_SIZE, callbacks=callbacks_list)\n",
    "  \n",
    "pyplot.plot(model_history.history['loss'], label='train')\n",
    "pyplot.legend()\n",
    "pyplot.show()"
   ]
  },
  {
   "cell_type": "code",
   "execution_count": null,
   "metadata": {
    "id": "2yFmKxiTBgDd"
   },
   "outputs": [],
   "source": [
    "model.summary()"
   ]
  }
 ],
 "metadata": {
  "accelerator": "GPU",
  "colab": {
   "collapsed_sections": [],
   "name": "DeepNote_Training.ipynb",
   "provenance": []
  },
  "kernelspec": {
   "display_name": "Python 3",
   "language": "python",
   "name": "python3"
  },
  "language_info": {
   "codemirror_mode": {
    "name": "ipython",
    "version": 3
   },
   "file_extension": ".py",
   "mimetype": "text/x-python",
   "name": "python",
   "nbconvert_exporter": "python",
   "pygments_lexer": "ipython3",
   "version": "3.8.8"
  }
 },
 "nbformat": 4,
 "nbformat_minor": 1
}
